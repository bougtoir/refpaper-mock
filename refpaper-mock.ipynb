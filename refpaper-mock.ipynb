import webbrowser

pub_year = input('year of publication: e.g., 2020')
pages = input('pages from-to: e.g., 628-634')

url_ = "https://pubmed.ncbi.nlm.nih.gov/?term={0}[Date - Publication] AND {1}[Pagination]".format(pub_year, pages)

webbrowser.open(url_, new=0, autoraise=True)
